{
  "nbformat": 4,
  "nbformat_minor": 0,
  "metadata": {
    "colab": {
      "provenance": [],
      "gpuType": "T4"
    },
    "kernelspec": {
      "name": "python3",
      "display_name": "Python 3"
    },
    "language_info": {
      "name": "python"
    },
    "accelerator": "GPU"
  },
  "cells": [
    {
      "cell_type": "markdown",
      "source": [
        "![pytorch.png](data:image/png;base64,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)\n",
        "\n",
        "# Deep Neural Network Implementation Using PyTorch"
      ],
      "metadata": {
        "id": "iVxRHf8BTc0I"
      }
    },
    {
      "cell_type": "markdown",
      "source": [
        "## Installation\n",
        "\n",
        "To install PyTorch, you can use `pip` or `conda`."
      ],
      "metadata": {
        "id": "2BLPmaHEOJDh"
      }
    },
    {
      "cell_type": "code",
      "execution_count": 1,
      "metadata": {
        "colab": {
          "base_uri": "https://localhost:8080/"
        },
        "id": "C3HMcOHwN72E",
        "outputId": "47410e97-7dfd-451a-ceff-638b2e288c49"
      },
      "outputs": [
        {
          "output_type": "stream",
          "name": "stdout",
          "text": [
            "Requirement already satisfied: torch in /usr/local/lib/python3.10/dist-packages (2.0.1+cu118)\n",
            "Requirement already satisfied: torchvision in /usr/local/lib/python3.10/dist-packages (0.15.2+cu118)\n",
            "Requirement already satisfied: torchsummary in /usr/local/lib/python3.10/dist-packages (1.5.1)\n",
            "Requirement already satisfied: filelock in /usr/local/lib/python3.10/dist-packages (from torch) (3.12.2)\n",
            "Requirement already satisfied: typing-extensions in /usr/local/lib/python3.10/dist-packages (from torch) (4.6.3)\n",
            "Requirement already satisfied: sympy in /usr/local/lib/python3.10/dist-packages (from torch) (1.11.1)\n",
            "Requirement already satisfied: networkx in /usr/local/lib/python3.10/dist-packages (from torch) (3.1)\n",
            "Requirement already satisfied: jinja2 in /usr/local/lib/python3.10/dist-packages (from torch) (3.1.2)\n",
            "Requirement already satisfied: triton==2.0.0 in /usr/local/lib/python3.10/dist-packages (from torch) (2.0.0)\n",
            "Requirement already satisfied: cmake in /usr/local/lib/python3.10/dist-packages (from triton==2.0.0->torch) (3.25.2)\n",
            "Requirement already satisfied: lit in /usr/local/lib/python3.10/dist-packages (from triton==2.0.0->torch) (16.0.6)\n",
            "Requirement already satisfied: numpy in /usr/local/lib/python3.10/dist-packages (from torchvision) (1.22.4)\n",
            "Requirement already satisfied: requests in /usr/local/lib/python3.10/dist-packages (from torchvision) (2.27.1)\n",
            "Requirement already satisfied: pillow!=8.3.*,>=5.3.0 in /usr/local/lib/python3.10/dist-packages (from torchvision) (8.4.0)\n",
            "Requirement already satisfied: MarkupSafe>=2.0 in /usr/local/lib/python3.10/dist-packages (from jinja2->torch) (2.1.3)\n",
            "Requirement already satisfied: urllib3<1.27,>=1.21.1 in /usr/local/lib/python3.10/dist-packages (from requests->torchvision) (1.26.16)\n",
            "Requirement already satisfied: certifi>=2017.4.17 in /usr/local/lib/python3.10/dist-packages (from requests->torchvision) (2023.5.7)\n",
            "Requirement already satisfied: charset-normalizer~=2.0.0 in /usr/local/lib/python3.10/dist-packages (from requests->torchvision) (2.0.12)\n",
            "Requirement already satisfied: idna<4,>=2.5 in /usr/local/lib/python3.10/dist-packages (from requests->torchvision) (3.4)\n",
            "Requirement already satisfied: mpmath>=0.19 in /usr/local/lib/python3.10/dist-packages (from sympy->torch) (1.3.0)\n"
          ]
        }
      ],
      "source": [
        "!pip install torch torchvision torchsummary"
      ]
    },
    {
      "cell_type": "markdown",
      "source": [
        "Also, you can find the comprehensive tutorial on get started in the [official page](https://pytorch.org/get-started/locally/).\n"
      ],
      "metadata": {
        "id": "f40e3KdLcBDT"
      }
    },
    {
      "cell_type": "markdown",
      "source": [
        "## Import\n",
        "Import the necessary libraries"
      ],
      "metadata": {
        "id": "6xlBMsw4OTC7"
      }
    },
    {
      "cell_type": "code",
      "source": [
        "import torch\n",
        "import torch.nn as nn\n",
        "import torch.optim as optim\n",
        "import torchvision.transforms as transforms\n",
        "from torch.utils.data import DataLoader"
      ],
      "metadata": {
        "id": "qIDyrvdTOCeH"
      },
      "execution_count": 2,
      "outputs": []
    },
    {
      "cell_type": "markdown",
      "source": [
        "### Setting up the GPU (Optional)\n",
        "\n",
        "If you have access to a GPU, PyTorch can leverage its power to accelerate computations. To utilize the GPU, ensure that you have the appropriate NVIDIA drivers installed. You can then enable GPU support in PyTorch by adding the following code:"
      ],
      "metadata": {
        "id": "xpZxtWKQOmfj"
      }
    },
    {
      "cell_type": "code",
      "source": [
        "device = torch.device(\"cuda\" if torch.cuda.is_available() else \"cpu\")"
      ],
      "metadata": {
        "id": "i4rYgURQOecI"
      },
      "execution_count": 3,
      "outputs": []
    },
    {
      "cell_type": "markdown",
      "source": [
        "## Dataset Preparation\n",
        "\n",
        "We will focus on the MNIST dataset as an illustrative example. By following these steps, you will gain an in-depth understanding of dataset preparation in the context of deep learning.\n",
        "\n",
        "\n",
        "\n",
        "### Data Loading\n",
        "\n",
        "PyTorch's `torchvision` module provides a range of functions for automatically downloading and loading popular datasets, including MNIST, CIFAR and etc. The MNIST dataset comprises grayscale images of handwritten digits, with each image labeled from 0 to 9."
      ],
      "metadata": {
        "id": "UeRvOmHfcgF4"
      }
    },
    {
      "cell_type": "code",
      "source": [
        "# load the MNIST dataset using PyTorch\n",
        "\n",
        "import torchvision.datasets as datasets\n",
        "\n",
        "# Define the root directory for dataset storage\n",
        "data_root = \"./data\"\n",
        "\n",
        "# Download and load the MNIST training set\n",
        "train_set = datasets.MNIST(root=data_root, train=True, download=True)\n",
        "\n",
        "# Download and load the MNIST test set\n",
        "test_set = datasets.MNIST(root=data_root, train=False, download=True)"
      ],
      "metadata": {
        "colab": {
          "base_uri": "https://localhost:8080/"
        },
        "id": "5SuDBNMJOprU",
        "outputId": "99b162ee-0a46-46ab-cdfd-caa4a20f1634"
      },
      "execution_count": 4,
      "outputs": [
        {
          "output_type": "stream",
          "name": "stdout",
          "text": [
            "Downloading http://yann.lecun.com/exdb/mnist/train-images-idx3-ubyte.gz\n",
            "Downloading http://yann.lecun.com/exdb/mnist/train-images-idx3-ubyte.gz to ./data/MNIST/raw/train-images-idx3-ubyte.gz\n"
          ]
        },
        {
          "output_type": "stream",
          "name": "stderr",
          "text": [
            "100%|██████████| 9912422/9912422 [00:00<00:00, 93748362.38it/s]\n"
          ]
        },
        {
          "output_type": "stream",
          "name": "stdout",
          "text": [
            "Extracting ./data/MNIST/raw/train-images-idx3-ubyte.gz to ./data/MNIST/raw\n",
            "\n",
            "Downloading http://yann.lecun.com/exdb/mnist/train-labels-idx1-ubyte.gz\n",
            "Downloading http://yann.lecun.com/exdb/mnist/train-labels-idx1-ubyte.gz to ./data/MNIST/raw/train-labels-idx1-ubyte.gz\n"
          ]
        },
        {
          "output_type": "stream",
          "name": "stderr",
          "text": [
            "100%|██████████| 28881/28881 [00:00<00:00, 23831535.28it/s]\n"
          ]
        },
        {
          "output_type": "stream",
          "name": "stdout",
          "text": [
            "Extracting ./data/MNIST/raw/train-labels-idx1-ubyte.gz to ./data/MNIST/raw\n",
            "\n",
            "Downloading http://yann.lecun.com/exdb/mnist/t10k-images-idx3-ubyte.gz\n",
            "Downloading http://yann.lecun.com/exdb/mnist/t10k-images-idx3-ubyte.gz to ./data/MNIST/raw/t10k-images-idx3-ubyte.gz\n"
          ]
        },
        {
          "output_type": "stream",
          "name": "stderr",
          "text": [
            "100%|██████████| 1648877/1648877 [00:00<00:00, 26639952.07it/s]\n"
          ]
        },
        {
          "output_type": "stream",
          "name": "stdout",
          "text": [
            "Extracting ./data/MNIST/raw/t10k-images-idx3-ubyte.gz to ./data/MNIST/raw\n",
            "\n",
            "Downloading http://yann.lecun.com/exdb/mnist/t10k-labels-idx1-ubyte.gz\n",
            "Downloading http://yann.lecun.com/exdb/mnist/t10k-labels-idx1-ubyte.gz to ./data/MNIST/raw/t10k-labels-idx1-ubyte.gz\n"
          ]
        },
        {
          "output_type": "stream",
          "name": "stderr",
          "text": [
            "100%|██████████| 4542/4542 [00:00<00:00, 20888737.68it/s]\n"
          ]
        },
        {
          "output_type": "stream",
          "name": "stdout",
          "text": [
            "Extracting ./data/MNIST/raw/t10k-labels-idx1-ubyte.gz to ./data/MNIST/raw\n",
            "\n"
          ]
        }
      ]
    },
    {
      "cell_type": "code",
      "source": [
        "import matplotlib.pyplot as plt\n",
        "import numpy as np\n",
        "\n",
        "# Define the number of rows and columns for the subplots\n",
        "num_rows = 5\n",
        "num_cols = 10\n",
        "\n",
        "# Calculate the total number of subplots\n",
        "num_subplots = num_rows * num_cols\n",
        "\n",
        "# Create a figure and axes for the subplots\n",
        "fig, axes = plt.subplots(num_rows, num_cols, figsize=(15, 7.5))\n",
        "\n",
        "# Iterate over the MNIST dataset and plot the images\n",
        "for i in range(num_subplots):\n",
        "    image, label = train_set[i]\n",
        "\n",
        "    # Convert the image PIL Image object to a NumPy array\n",
        "    image = np.array(image)\n",
        "\n",
        "    # Get the subplot index\n",
        "    row_idx = i // num_cols\n",
        "    col_idx = i % num_cols\n",
        "\n",
        "    # Plot the image in the corresponding subplot\n",
        "    axes[row_idx, col_idx].imshow(image, cmap='gray')\n",
        "    axes[row_idx, col_idx].set_title(f'Label: {label}', fontsize=12, pad=5)\n",
        "    axes[row_idx, col_idx].axis('off')\n",
        "\n",
        "    # Add a border around each subplot\n",
        "    axes[row_idx, col_idx].spines['top'].set_visible(True)\n",
        "    axes[row_idx, col_idx].spines['bottom'].set_visible(True)\n",
        "    axes[row_idx, col_idx].spines['left'].set_visible(True)\n",
        "    axes[row_idx, col_idx].spines['right'].set_visible(True)\n",
        "    axes[row_idx, col_idx].spines['top'].set_color('gray')\n",
        "    axes[row_idx, col_idx].spines['bottom'].set_color('gray')\n",
        "    axes[row_idx, col_idx].spines['left'].set_color('gray')\n",
        "    axes[row_idx, col_idx].spines['right'].set_color('gray')\n",
        "\n",
        "# Adjust the spacing between subplots\n",
        "plt.subplots_adjust(wspace=0.2, hspace=0.2)\n",
        "\n",
        "# Set the overall title and styling\n",
        "fig.suptitle('MNIST Dataset Subplots', fontsize=25, fontweight='bold', y=0.95)\n",
        "plt.tight_layout(pad=2)\n",
        "\n",
        "# Add a background color to the figure\n",
        "fig.patch.set_facecolor('#F8F8F8')\n",
        "\n",
        "# Display the subplots\n",
        "plt.show()\n"
      ],
      "metadata": {
        "colab": {
          "base_uri": "https://localhost:8080/",
          "height": 430
        },
        "id": "DPlrDZMqoKQq",
        "outputId": "31b37f2a-9391-4962-9d96-f2dd00fb5769"
      },
      "execution_count": 6,
      "outputs": [
        {
          "output_type": "display_data",
          "data": {
            "text/plain": [
              "<Figure size 1500x750 with 50 Axes>"
            ],
            "image/png": "[encoded data removed]"
          },
          "metadata": {}
        }
      ]
    },
    {
      "cell_type": "markdown",
      "source": [
        "## Data Preprocessing\n"
      ],
      "metadata": {
        "id": "mTk-1VsXg-dl"
      }
    },
    {
      "cell_type": "code",
      "source": [
        "import torchvision.transforms as transforms"
      ],
      "metadata": {
        "id": "vjjajFzNg4W0"
      },
      "execution_count": 7,
      "outputs": []
    },
    {
      "cell_type": "markdown",
      "source": [
        "We use the `ToTensor` transformation to convert the PIL images in the dataset to tensors, enabling efficient processing within the deep neural network. Subsequently, the `Normalize` transformation scales the pixel values by subtracting the mean (0.5) and dividing by the standard deviation (0.5), resulting in a range of [-1, 1]."
      ],
      "metadata": {
        "id": "Fr2qqC-qh6JW"
      }
    },
    {
      "cell_type": "code",
      "source": [
        "# Define the transformation pipeline\n",
        "transform = transforms.Compose([\n",
        "    transforms.ToTensor(),               # Convert PIL image to tensor\n",
        "    transforms.Normalize((0.5,), (0.5,)) # Normalize the pixel values to the range [-1, 1]\n",
        "])\n",
        "\n",
        "# Apply the transformation pipeline to the training set\n",
        "train_set.transform = transform\n",
        "\n",
        "# Apply the transformation pipeline to the test set\n",
        "test_set.transform = transform"
      ],
      "metadata": {
        "id": "9NnrlMCqhvpb"
      },
      "execution_count": 8,
      "outputs": []
    },
    {
      "cell_type": "markdown",
      "source": [
        "### Train-Validation-Test Split\n",
        "We can split the MNIST dataset into training, validation, and test sets using `torch.utils.data.random_split`"
      ],
      "metadata": {
        "id": "-zgi8bFIivhS"
      }
    },
    {
      "cell_type": "code",
      "source": [
        "from torch.utils.data import random_split\n",
        "\n",
        "# Define the proportions for the split\n",
        "train_ratio = 0.7\n",
        "val_ratio = 0.15\n",
        "test_ratio = 0.15\n",
        "\n",
        "# Compute the sizes of each split\n",
        "train_size = int(len(train_set) * train_ratio)\n",
        "val_size = int(len(train_set) * val_ratio)\n",
        "test_size = len(train_set) - train_size - val_size\n",
        "\n",
        "# Perform the random split\n",
        "train_set, val_set, test_set = random_split(train_set, [train_size, val_size, test_size])"
      ],
      "metadata": {
        "id": "FdJFYmTSh2Ec"
      },
      "execution_count": 9,
      "outputs": []
    },
    {
      "cell_type": "markdown",
      "source": [
        "By splitting the dataset in this manner, we ensure that the model is trained on a sufficiently large training set, validated on a smaller validation set to monitor performance, and tested on an independent test set to evaluate generalization.\n"
      ],
      "metadata": {
        "id": "OhenOU_GjXjC"
      }
    },
    {
      "cell_type": "markdown",
      "source": [
        "## Model Architecture Design\n",
        "\n",
        "Designing the architecture of your deep neural network involves selecting the number of layers, their sizes, and the activation functions. Additionally, you need to choose a suitable loss function and optimizer for training the model. Proper selection of hyperparameters is crucial for model performance.\n"
      ],
      "metadata": {
        "id": "mku_Q-sJjiy2"
      }
    },
    {
      "cell_type": "markdown",
      "source": [
        "## Building the Deep Neural Network Model"
      ],
      "metadata": {
        "id": "GBs79f-5ksbT"
      }
    },
    {
      "cell_type": "markdown",
      "source": [
        "### Defining the Model Class\n",
        "\n",
        "In the process of building a deep learning model, defining the model class is a fundamental step. This involves creating a class that inherits from the `nn.Module` base class provided by PyTorch. The model class serves as a blueprint for the architecture of the neural network and encapsulates the layers and the forward propagation logic.\n",
        "\n",
        "To define the model class, you need to perform the following steps:\n",
        "\n",
        "1. Create a class that inherits from `nn.Module`, such as `NeuralNetwork(nn.Module)`.\n",
        "   - By inheriting from `nn.Module`, you can leverage the functionalities and features provided by PyTorch for model construction and training.\n",
        "\n",
        "2. Define the architecture of the neural network within the `__init__` method.\n",
        "   - In the `__init__` method, you specify the layers and their configurations. This is where you instantiate and define the individual layers of your network.\n",
        "   - For example, you can use `nn.Linear` to create fully connected layers, specifying the input size, output size, and other relevant parameters.\n",
        "\n",
        "3. Implement the forward propagation logic in the `forward` method.\n",
        "   - The `forward` method defines how the input flows through the network and produces the output.\n",
        "   - You apply the necessary activation functions and combine the layers to form the desired network architecture.\n",
        "   - Ensure that the forward pass is defined in a sequential manner, specifying the sequence of operations that transform the input into the output."
      ],
      "metadata": {
        "id": "M-Lg_tZMkuyS"
      }
    },
    {
      "cell_type": "code",
      "source": [
        "class NeuralNetwork(nn.Module):\n",
        "    def __init__(self, input_size, hidden_size, output_size):\n",
        "        super(NeuralNetwork, self).__init__()\n",
        "        self.fc1 = nn.Linear(input_size, hidden_size)\n",
        "        self.fc2 = nn.Linear(hidden_size, output_size)\n",
        "        self.relu = nn.ReLU()\n",
        "        self.dropout = nn.Dropout(0.5)\n",
        "        self.batchnorm1 = nn.BatchNorm1d(hidden_size)\n",
        "        self.batchnorm2 = nn.BatchNorm1d(output_size)\n",
        "\n",
        "        # Weight initialization\n",
        "        nn.init.xavier_uniform_(self.fc1.weight)\n",
        "        nn.init.xavier_uniform_(self.fc2.weight)\n",
        "\n",
        "    def forward(self, x):\n",
        "        x = x.view(x.size(0), -1)\n",
        "        x = self.fc1(x)\n",
        "        x = self.batchnorm1(x)\n",
        "        x = self.relu(x)\n",
        "        x = self.dropout(x)\n",
        "        x = self.fc2(x)\n",
        "        x = self.batchnorm2(x)\n",
        "        return x\n"
      ],
      "metadata": {
        "id": "gBsOnsCikrnu"
      },
      "execution_count": 10,
      "outputs": []
    },
    {
      "cell_type": "markdown",
      "source": [
        "### Initializing the Model\n",
        "\n",
        "\n",
        "Key steps include defining the input size, hidden size, and output size, which dictate the dimensions of the neural network. To leverage hardware acceleration, the code automatically allocates the model to a GPU if available, utilizing the `torch.cuda.is_available()` function. The `NeuralNetwork` model is then instantiated with the specified dimensions, followed by moving the model to the GPU using the `.to(device)` method.\n",
        "\n",
        "\n",
        "\n",
        "The `summary` function from `torchsummary` is utilized to generate a concise report on the model's architecture. This summary aids researchers and practitioners in understanding the model's complexity, facilitating informed decision-making regarding model design and optimization."
      ],
      "metadata": {
        "id": "cjazEnnOwdzM"
      }
    },
    {
      "cell_type": "code",
      "source": [
        "from torchsummary import summary\n",
        "\n",
        "input_size = 784  # Number of input features\n",
        "hidden_size = 128  # Number of hidden units\n",
        "output_size = 10  # Number of output classes\n",
        "\n",
        "\n",
        "device = torch.device('cuda' if torch.cuda.is_available() else 'cpu')\n",
        "model = NeuralNetwork(input_size, hidden_size, output_size).to(device)# Create an instance of the NeuralNetwork model\n",
        "\n",
        "summary(model, (input_size,))  # Print the summary of the model"
      ],
      "metadata": {
        "colab": {
          "base_uri": "https://localhost:8080/"
        },
        "id": "wYgeZS3fi6ag",
        "outputId": "d98935f5-914c-4670-9c25-b2a35472497c"
      },
      "execution_count": 13,
      "outputs": [
        {
          "output_type": "stream",
          "name": "stdout",
          "text": [
            "----------------------------------------------------------------\n",
            "        Layer (type)               Output Shape         Param #\n",
            "================================================================\n",
            "            Linear-1                  [-1, 128]         100,480\n",
            "       BatchNorm1d-2                  [-1, 128]             256\n",
            "              ReLU-3                  [-1, 128]               0\n",
            "           Dropout-4                  [-1, 128]               0\n",
            "            Linear-5                   [-1, 10]           1,290\n",
            "       BatchNorm1d-6                   [-1, 10]              20\n",
            "================================================================\n",
            "Total params: 102,046\n",
            "Trainable params: 102,046\n",
            "Non-trainable params: 0\n",
            "----------------------------------------------------------------\n",
            "Input size (MB): 0.00\n",
            "Forward/backward pass size (MB): 0.00\n",
            "Params size (MB): 0.39\n",
            "Estimated Total Size (MB): 0.40\n",
            "----------------------------------------------------------------\n"
          ]
        }
      ]
    },
    {
      "cell_type": "markdown",
      "source": [
        "## Training the Model\n",
        "\n",
        "To train the deep learning model, we need to define the optimization algorithm, loss function, and training parameters.\n",
        "\n",
        "We will iterate over the training dataset for a specified number of epochs, which determines the number of times the model will be trained on the entire dataset. In each epoch, we perform the following steps:\n",
        "\n",
        "1. Set the model to the training mode using `model.train()`.\n",
        "2. Initialize the running loss variable to keep track of the loss during the epoch.\n",
        "3. Iterate over the batches of data from the training loader.\n",
        "4. Move the input data and labels to the appropriate device (e.g., GPU) for faster computation.\n",
        "5. Zero the gradients to avoid accumulation from previous iterations.\n",
        "6. Perform a forward pass through the model to obtain the predicted outputs.\n",
        "7. Compute the loss between the predicted outputs and the true labels.\n",
        "8. Perform a backward pass and update the model's parameters using gradient descent.\n",
        "9. Update the running loss with the current batch loss.\n",
        "10. Compute the average training loss for the epoch by dividing the running loss by the total number of training samples.\n",
        "11. Optionally, print the training progress for each epoch.\n",
        "\n",
        "After completing the specified number of epochs, the model will have learned the underlying patterns in the training data. This process of training allows the model to adjust its parameters to minimize the loss and improve its predictive capabilities.\n",
        "\n",
        "Note: The specific details of the optimizer, loss function, and training parameters may vary depending on the task and the specific requirements of your deep learning model."
      ],
      "metadata": {
        "id": "yGzk25mTxXFh"
      }
    },
    {
      "cell_type": "markdown",
      "source": [
        "### Setting up Training Parameters\n",
        "\n",
        "Before training the model, we need to set up various training parameters. These parameters include the loss function, optimizer, number of epochs, and batch size.\n",
        "\n",
        "- **Loss Function**: The loss function measures the discrepancy between the predicted outputs and the true labels. In this case, we will use the CrossEntropyLoss function, which is commonly used for multi-class classification problems.\n",
        "\n",
        "- **Optimizer**: The optimizer determines how the model's parameters are updated during training. We will use the Adam optimizer, which is an extension of stochastic gradient descent (SGD). It adapts the learning rate dynamically for each parameter, leading to faster convergence and improved performance.\n",
        "\n",
        "- **Number of Epochs**: The number of epochs defines how many times the model will be trained on the entire dataset. Each epoch consists of a forward and backward pass through the network, updating the parameters based on the calculated gradients. In this example, we will train the model for 10 epochs.\n",
        "\n",
        "- **Batch Size**: The batch size determines the number of samples that are processed together before the model's parameters are updated. It affects the trade-off between computational efficiency and the quality of parameter updates. A larger batch size can lead to faster training, but it may also require more memory. In this case, we will use a batch size of 32.\n",
        "\n",
        "By appropriately setting these training parameters, we can ensure effective and efficient training of our deep learning model.\n",
        "\n",
        "\n",
        "\n",
        "\n"
      ],
      "metadata": {
        "id": "UYT2CcbJxZf9"
      }
    },
    {
      "cell_type": "code",
      "source": [
        "# Defining the Loss Function\n",
        "criterion = nn.CrossEntropyLoss()\n",
        "\n",
        "# Selecting the Optimizer\n",
        "optimizer = optim.Adam(model.parameters(), lr=0.001)\n",
        "\n",
        "# Define the Number of Epochs\n",
        "num_epochs = 10\n",
        "\n",
        "# Define the Batch Size\n",
        "batch_size = 32"
      ],
      "metadata": {
        "id": "utAAU-a_whi4"
      },
      "execution_count": 18,
      "outputs": []
    },
    {
      "cell_type": "markdown",
      "source": [
        "The next step in training the model is to create data loaders for the training and validation datasets. Data loaders help in efficiently loading and preprocessing the data during training.\n",
        "\n",
        "- **train_loader**: The train_loader is created using the `torch.utils.data.DataLoader` class. It takes the training dataset (`train_set`) as input along with the batch size (`batch_size`) and the `shuffle` parameter set to `True`. The shuffle parameter ensures that the training samples are randomly shuffled before each epoch, which helps in avoiding any bias that could arise from the ordering of the data.\n",
        "\n",
        "- **validation_loader**: The validation_loader is created in a similar manner to the train_loader. It uses the validation dataset (`val_set`) as input along with the batch size (`batch_size`). The shuffle parameter is set to `False` to maintain the order of the validation samples, as shuffling is not required during the validation phase.\n",
        "\n",
        "These data loaders will be used during the training process to efficiently feed the batches of data to the model for training and evaluation."
      ],
      "metadata": {
        "id": "myND5jOoMVyN"
      }
    },
    {
      "cell_type": "code",
      "source": [
        "# Create the train_loader\n",
        "train_loader = torch.utils.data.DataLoader(train_set, batch_size=batch_size, shuffle=True)\n",
        "\n",
        "# Create the validation_loader\n",
        "validation_loader = torch.utils.data.DataLoader(val_set, batch_size=batch_size, shuffle=False)\n"
      ],
      "metadata": {
        "id": "CnZg1vjmyVuy"
      },
      "execution_count": 19,
      "outputs": []
    },
    {
      "cell_type": "markdown",
      "source": [
        "### Training Loop\n",
        "\n",
        "The training loop is where the model is trained on the training dataset and evaluated on the validation dataset for each epoch.\n",
        "\n",
        "- **train_losses**: This list is initialized to store the training loss for each epoch. It will be used to track the progress of the training process.\n",
        "\n",
        "- **val_losses**: This list is initialized to store the validation loss for each epoch. It will be used to monitor the performance of the model on the validation dataset.\n",
        "\n",
        "- **accuracies**: This list is initialized to store the accuracy for each epoch. It will help evaluate how well the model is performing on the validation dataset.\n",
        "\n",
        "The training loop consists of two nested loops: the outer loop iterates over each epoch, and the inner loop iterates over the batches of data in the train_loader.\n",
        "\n",
        "Inside the inner loop:\n",
        "- The inputs and labels are moved to the GPU if available using `inputs.to(device)` and `labels.to(device)`.\n",
        "\n",
        "- The gradients are zeroed using `optimizer.zero_grad()` to avoid accumulating gradients from previous iterations.\n",
        "\n",
        "- The forward pass is performed by passing the inputs through the model using `outputs = model(inputs)`.\n",
        "\n",
        "- The loss is computed by comparing the model's outputs with the ground truth labels using `loss = criterion(outputs, labels)`.\n",
        "\n",
        "- The backward pass is performed by calling `loss.backward()`, which computes the gradients of the loss with respect to the model's parameters.\n",
        "\n",
        "- The optimizer's `step()` function is called to update the model's parameters based on the computed gradients.\n",
        "\n",
        "- The running loss is updated by multiplying the loss with the batch size (`inputs.size(0)`) and adding it to `running_loss`.\n",
        "\n",
        "After each epoch:\n",
        "- The average training loss for the epoch is computed by dividing the running loss by the total number of training samples.\n",
        "\n",
        "- The model is switched to evaluation mode using `model.eval()`.\n",
        "\n",
        "- Validation is performed by iterating over the validation_loader. The validation loss and accuracy are computed similar to the training loop.\n",
        "\n",
        "- The average validation loss and accuracy are computed by dividing the total validation loss and correct predictions by the number of validation samples.\n",
        "\n",
        "- The training progress, including the epoch number, training loss, validation loss, and accuracy, is printed for monitoring.\n",
        "\n",
        "The training loop completes after all epochs have been processed, and the final message \"Training complete\" is printed."
      ],
      "metadata": {
        "id": "0_PCHb5hxuXH"
      }
    },
    {
      "cell_type": "code",
      "source": [
        "# Initialize empty lists to store metrics\n",
        "train_losses = []\n",
        "val_losses = []\n",
        "accuracies = []\n",
        "\n",
        "# Proceed with the training loop\n",
        "for epoch in range(num_epochs):\n",
        "    model.train()\n",
        "    running_loss = 0.0\n",
        "    correct = 0\n",
        "    total = 0\n",
        "\n",
        "    for inputs, labels in train_loader:\n",
        "        inputs = inputs.to(device)  # Move inputs to the GPU if available\n",
        "        labels = labels.to(device)  # Move labels to the GPU if available\n",
        "\n",
        "        optimizer.zero_grad()  # Zero the gradients\n",
        "\n",
        "        outputs = model(inputs)  # Forward pass\n",
        "\n",
        "        loss = criterion(outputs, labels)  # Compute the loss\n",
        "\n",
        "        loss.backward()  # Backward pass and optimization\n",
        "        optimizer.step()\n",
        "\n",
        "        running_loss += loss.item() * inputs.size(0)  # Update running loss\n",
        "\n",
        "    train_loss = running_loss / len(train_set)  # Compute average training loss for the epoch\n",
        "\n",
        "    print(f\"Epoch {epoch+1}/{num_epochs}, Training Loss: {train_loss}\")  # Print training progress\n",
        "\n",
        "    # Compute average training loss for the epoch\n",
        "    train_loss = running_loss / len(train_set)\n",
        "    train_losses.append(train_loss)\n",
        "\n",
        "    # Perform validation\n",
        "    model.eval()\n",
        "    with torch.no_grad():\n",
        "        # Initialize validation loss and accuracy variables\n",
        "        validation_loss = 0.0\n",
        "        correct = 0\n",
        "        total = 0\n",
        "\n",
        "        for inputs, labels in validation_loader:\n",
        "            inputs = inputs.to(device)  # Move inputs to the GPU if available\n",
        "            labels = labels.to(device)  # Move labels to the GPU if available\n",
        "\n",
        "            outputs = model(inputs)  # Forward pass\n",
        "\n",
        "            validation_loss += criterion(outputs, labels).item() * inputs.size(0)  # Compute validation loss\n",
        "\n",
        "            _, predicted = torch.max(outputs.data, 1)\n",
        "            total += labels.size(0)\n",
        "            correct += (predicted == labels).sum().item()\n",
        "\n",
        "        # Compute average validation loss and accuracy\n",
        "        val_loss = validation_loss / len(val_set)\n",
        "        val_losses.append(val_loss)\n",
        "        accuracy = correct / total * 100\n",
        "        accuracies.append(accuracy)\n",
        "\n",
        "        # Print training progress\n",
        "        print(f\"Epoch {epoch+1}/{num_epochs}, Train Loss: {train_loss:.4f}, Val Loss: {val_loss:.4f}, Accuracy: {accuracy:.2f}%\")\n",
        "\n",
        "print(\"Training complete\")\n"
      ],
      "metadata": {
        "colab": {
          "base_uri": "https://localhost:8080/"
        },
        "id": "Jztm9LJRxiS9",
        "outputId": "70f8484e-f88b-4c1f-8ada-0347e3bae9c1"
      },
      "execution_count": 20,
      "outputs": [
        {
          "output_type": "stream",
          "name": "stdout",
          "text": [
            "Epoch 1/10, Training Loss: 0.3673658960887364\n",
            "Epoch 1/10, Train Loss: 0.3674, Val Loss: 0.1725, Accuracy: 96.02%\n",
            "Epoch 2/10, Training Loss: 0.32074411276408604\n",
            "Epoch 2/10, Train Loss: 0.3207, Val Loss: 0.1643, Accuracy: 95.98%\n",
            "Epoch 3/10, Training Loss: 0.2885793504204069\n",
            "Epoch 3/10, Train Loss: 0.2886, Val Loss: 0.1385, Accuracy: 96.43%\n",
            "Epoch 4/10, Training Loss: 0.26486541454281126\n",
            "Epoch 4/10, Train Loss: 0.2649, Val Loss: 0.1290, Accuracy: 96.68%\n",
            "Epoch 5/10, Training Loss: 0.2510575955793971\n",
            "Epoch 5/10, Train Loss: 0.2511, Val Loss: 0.1246, Accuracy: 96.89%\n",
            "Epoch 6/10, Training Loss: 0.23510122887577328\n",
            "Epoch 6/10, Train Loss: 0.2351, Val Loss: 0.1123, Accuracy: 97.02%\n",
            "Epoch 7/10, Training Loss: 0.22847037938946768\n",
            "Epoch 7/10, Train Loss: 0.2285, Val Loss: 0.1097, Accuracy: 97.16%\n",
            "Epoch 8/10, Training Loss: 0.21747894473870596\n",
            "Epoch 8/10, Train Loss: 0.2175, Val Loss: 0.1063, Accuracy: 97.22%\n",
            "Epoch 9/10, Training Loss: 0.2100531817362422\n",
            "Epoch 9/10, Train Loss: 0.2101, Val Loss: 0.1031, Accuracy: 97.10%\n",
            "Epoch 10/10, Training Loss: 0.20597965082242375\n",
            "Epoch 10/10, Train Loss: 0.2060, Val Loss: 0.1013, Accuracy: 97.33%\n",
            "Training complete\n"
          ]
        }
      ]
    },
    {
      "cell_type": "markdown",
      "source": [
        "After training the model, it is important to monitor the training progress and assess the model's performance. One way to visualize the training progress is by plotting the training and validation losses over the epochs.\n",
        "\n",
        "- The `plt.plot` function is used to plot the training and validation losses. The `train_losses` and `val_losses` lists contain the calculated losses for each epoch during training.\n",
        "\n",
        "- The x-axis of the plot represents the epochs, which indicates the number of times the entire training dataset has been passed through the model during training.\n",
        "\n",
        "- The y-axis represents the loss value, which quantifies the deviation of the model's predicted outputs from the true labels. Lower loss values indicate better performance.\n",
        "\n",
        "- The `plt.xlabel` function sets the label for the x-axis, which represents the epochs.\n",
        "\n",
        "- The `plt.ylabel` function sets the label for the y-axis, which represents the loss value.\n",
        "\n",
        "- The `plt.legend` function displays a legend on the plot, indicating which line corresponds to the training loss and which line corresponds to the validation loss.\n",
        "\n",
        "- Finally, the `plt.show` function displays the plot.\n",
        "\n",
        "By observing the training progress plot, you can gain insights into how the model is learning and whether it is overfitting or underfitting the data. It allows you to make informed decisions regarding model adjustments and hyperparameter tuning to optimize the model's performance."
      ],
      "metadata": {
        "id": "gR_x4PnlMhmE"
      }
    },
    {
      "cell_type": "code",
      "source": [
        "# Plot training progress\n",
        "plt.plot(train_losses, label='Train Loss')\n",
        "plt.plot(val_losses, label='Val Loss')\n",
        "plt.xlabel('Epoch')\n",
        "plt.ylabel('Loss')\n",
        "plt.legend()\n",
        "plt.show()"
      ],
      "metadata": {
        "colab": {
          "base_uri": "https://localhost:8080/",
          "height": 449
        },
        "id": "FUdeILAnx1VR",
        "outputId": "6dece6b0-b704-43be-da4a-7660728c1740"
      },
      "execution_count": 21,
      "outputs": [
        {
          "output_type": "display_data",
          "data": {
            "text/plain": [
              "<Figure size 640x480 with 1 Axes>"
            ],
            "image/png": "[encoded data removed]"
          },
          "metadata": {}
        }
      ]
    },
    {
      "cell_type": "markdown",
      "source": [
        "After training the model, it is important to evaluate its performance on unseen data to assess its generalization capabilities. The testing process involves feeding the test dataset into the trained model and calculating the test loss and accuracy.\n",
        "\n",
        "- The model is set to evaluation mode using `model.eval()`. This ensures that any layers or operations that behave differently during training, such as dropout or batch normalization, are properly adjusted for evaluation.\n",
        "\n",
        "- The test dataset is loaded into a `test_loader` using `torch.utils.data.DataLoader`. This loader enables efficient batch processing of the test data.\n",
        "\n",
        "- The test loss is calculated by iterating over the test loader and performing a forward pass through the model. The loss is computed using the same criterion (e.g., cross-entropy loss) used during training. The test loss is accumulated and multiplied by the batch size to obtain the overall test loss.\n",
        "\n",
        "- During the forward pass, the model predicts the class labels for the test inputs. The predicted labels are obtained by selecting the class with the highest probability from the output probabilities.\n",
        "\n",
        "- The total number of test samples and the number of correct predictions are updated for each batch.\n",
        "\n",
        "- The average test loss is computed by dividing the accumulated test loss by the total number of test samples.\n",
        "\n",
        "- The accuracy is calculated by dividing the number of correct predictions by the total number of test samples and multiplying by 100 to obtain a percentage.\n",
        "\n",
        "- Finally, the test loss and accuracy are printed to assess the model's performance on the unseen test data.\n",
        "\n",
        "By evaluating the model on the test dataset, you can obtain insights into how well the model generalizes to new, unseen samples. The test loss provides an indication of the model's overall performance, while the accuracy gives the percentage of correctly predicted labels. These metrics help assess the model's effectiveness and guide further improvements if necessary."
      ],
      "metadata": {
        "id": "8xRwnEaoMl3q"
      }
    },
    {
      "cell_type": "code",
      "source": [
        "# Testing the Model\n",
        "model.eval()  # Set the model to evaluation mode\n",
        "\n",
        "test_loss = 0.0\n",
        "correct = 0\n",
        "total = 0\n",
        "\n",
        "# Create the test_loader\n",
        "test_loader = torch.utils.data.DataLoader(test_set, batch_size=batch_size, shuffle=False)\n",
        "\n",
        "# Disable gradient computation for efficiency\n",
        "with torch.no_grad():\n",
        "    for inputs, labels in test_loader:\n",
        "        inputs = inputs.to(device)  # Move inputs to the GPU if available\n",
        "        labels = labels.to(device)  # Move labels to the GPU if available\n",
        "\n",
        "        # Forward pass\n",
        "        outputs = model(inputs)\n",
        "\n",
        "        # Compute the loss\n",
        "        loss = criterion(outputs, labels)\n",
        "        test_loss += loss.item() * inputs.size(0)\n",
        "\n",
        "        # Convert output probabilities to predicted class\n",
        "        _, predicted = torch.max(outputs.data, 1)\n",
        "\n",
        "        # Update total and correct predictions\n",
        "        total += labels.size(0)\n",
        "        correct += (predicted == labels).sum().item()\n",
        "\n",
        "# Compute average test loss and accuracy\n",
        "average_loss = test_loss / len(test_set)\n",
        "accuracy = (correct / total) * 100\n",
        "\n",
        "print(f\"Test Loss: {average_loss:.4f}\")\n",
        "print(f\"Accuracy: {accuracy:.2f}%\")\n"
      ],
      "metadata": {
        "colab": {
          "base_uri": "https://localhost:8080/"
        },
        "id": "FGQzrO3FBmx7",
        "outputId": "f0632292-acc8-4812-b361-e9acf19b03cb"
      },
      "execution_count": 22,
      "outputs": [
        {
          "output_type": "stream",
          "name": "stdout",
          "text": [
            "Test Loss: 0.1012\n",
            "Accuracy: 97.13%\n"
          ]
        }
      ]
    },
    {
      "cell_type": "markdown",
      "source": [
        "During model evaluation, it can be insightful to visualize the predictions made by the model on individual images. This provides a qualitative assessment of the model's performance.\n",
        "\n",
        "- The model is set to evaluation mode using `model.eval()`. This ensures that any layers or operations that behave differently during training, such as dropout or batch normalization, are properly adjusted for evaluation.\n",
        "\n",
        "- A random sample from the test dataset is selected using the `random.randint()` function. This allows us to visualize a different image and its corresponding label each time.\n",
        "\n",
        "- The image tensor and its corresponding label are retrieved from the test dataset.\n",
        "\n",
        "- The image tensor is moved to the same device as the model using `image.to(device)`.\n",
        "\n",
        "- The model is also moved to the same device as the image using `model.to(device)`.\n",
        "\n",
        "- A forward pass is performed on the image tensor to obtain the predicted label. The output of the model is obtained by passing the image tensor through the model using `model(image.unsqueeze(0))`. The predicted label is then obtained by selecting the class with the highest probability from the output using `torch.max(output.data, 1)`.\n",
        "\n",
        "- The image tensor is converted to a numpy array using `image.squeeze().cpu().numpy()`. This allows us to easily display the image using `plt.imshow()`.\n",
        "\n",
        "- Finally, the image along with the predicted label and true label is displayed using `plt.imshow()` and `plt.title()`. The axis is turned off using `plt.axis('off')` to remove any axis labels or tick marks.\n",
        "\n",
        "By visualizing the predicted label alongside the image, you can gain an understanding of how well the model performs on individual samples. This allows you to assess the model's ability to correctly classify different instances and identify any potential areas for improvement."
      ],
      "metadata": {
        "id": "LULcs7YONlZh"
      }
    },
    {
      "cell_type": "code",
      "source": [
        "import random\n",
        "import matplotlib.pyplot as plt\n",
        "\n",
        "# Set the model to evaluation mode\n",
        "model.eval()\n",
        "\n",
        "# Select a random sample from the test dataset\n",
        "index = random.randint(0, len(test_set) - 1)\n",
        "image, label = test_set[index]\n",
        "\n",
        "# Move the image tensor to the same device as the model\n",
        "image = image.to(device)\n",
        "\n",
        "# Move the model to the same device as the image\n",
        "model = model.to(device)\n",
        "\n",
        "# Forward pass to obtain the predicted label\n",
        "with torch.no_grad():\n",
        "    output = model(image.unsqueeze(0))\n",
        "    _, predicted_label = torch.max(output.data, 1)\n",
        "\n",
        "# Convert the image tensor to a numpy array\n",
        "image = image.squeeze().cpu().numpy()\n",
        "\n",
        "# Display the image and predicted label\n",
        "plt.imshow(image, cmap='gray')\n",
        "plt.title(f'Predicted Label: {predicted_label.item()}, True Label: {label}')\n",
        "plt.axis('off')\n",
        "plt.show()\n"
      ],
      "metadata": {
        "colab": {
          "base_uri": "https://localhost:8080/",
          "height": 428
        },
        "id": "Lajj6O4JFqjB",
        "outputId": "586879ae-d78b-43aa-c753-45b39325a19c"
      },
      "execution_count": 30,
      "outputs": [
        {
          "output_type": "display_data",
          "data": {
            "text/plain": [
              "<Figure size 640x480 with 1 Axes>"
            ],
            "image/png": "[encoded data removed]"
          },
          "metadata": {}
        }
      ]
    },
    {
      "cell_type": "markdown",
      "source": [
        "In this section, we will compute the confusion matrix and classification report to assess the model's performance on the test dataset.\n",
        "\n",
        "- **Confusion Matrix**: The confusion matrix provides a tabular representation of the model's predictions versus the true labels. It shows the number of samples that are correctly classified (true positives and true negatives) and the number of samples that are misclassified (false positives and false negatives). The confusion matrix provides insights into the model's performance for each class and helps in identifying any patterns or biases in the predictions.\n",
        "\n",
        "- **Classification Report**: The classification report presents a comprehensive summary of various evaluation metrics such as precision, recall, F1 score, and support for each class. Precision represents the accuracy of positive predictions, recall measures the ability to correctly identify positive samples, and the F1 score is the harmonic mean of precision and recall. The support indicates the number of samples in each class. The classification report provides a detailed understanding of the model's performance for each class and overall.\n",
        "\n",
        "To compute these evaluation metrics, we set the model to evaluation mode using `model.eval()`. Then, we iterate over the test dataset using a data loader (`test_loader`). For each batch of inputs and labels, we move them to the appropriate device (CPU or GPU) for computation. We perform a forward pass through the model to obtain the predicted class labels. These predicted labels and true labels are then accumulated in the `predictions` and `true_labels` lists, respectively.\n",
        "\n",
        "Finally, we use the `confusion_matrix` and `classification_report` functions from the `sklearn.metrics` module to compute the confusion matrix and classification report based on the accumulated predictions and true labels. The results are printed to provide a detailed assessment of the model's performance on the test dataset."
      ],
      "metadata": {
        "id": "HXaX68KzN1BL"
      }
    },
    {
      "cell_type": "code",
      "source": [
        "from sklearn.metrics import confusion_matrix, classification_report\n",
        "\n",
        "# Get the predictions for the test dataset\n",
        "model.eval()  # Set the model to evaluation mode\n",
        "predictions = []\n",
        "true_labels = []\n",
        "\n",
        "# Disable gradient computation for efficiency\n",
        "with torch.no_grad():\n",
        "    for inputs, labels in test_loader:\n",
        "        inputs = inputs.to(device)\n",
        "        labels = labels.to(device)\n",
        "\n",
        "        # Forward pass\n",
        "        outputs = model(inputs)\n",
        "\n",
        "        # Convert output probabilities to predicted class\n",
        "        _, predicted = torch.max(outputs.data, 1)\n",
        "\n",
        "        # Append the predicted and true labels\n",
        "        predictions.extend(predicted.tolist())\n",
        "        true_labels.extend(labels.tolist())\n",
        "\n",
        "# Compute the confusion matrix and classification report\n",
        "cm = confusion_matrix(true_labels, predictions)\n",
        "report = classification_report(true_labels, predictions)\n",
        "\n",
        "# Print the confusion matrix and classification report\n",
        "print(\"Confusion Matrix:\")\n",
        "print(cm)\n",
        "print(\"\\nClassification Report:\")\n",
        "print(report)\n"
      ],
      "metadata": {
        "colab": {
          "base_uri": "https://localhost:8080/"
        },
        "id": "vuTcN_ONCB7q",
        "outputId": "42413d87-1dc1-4372-ffa2-b5a8eeee2f14"
      },
      "execution_count": 23,
      "outputs": [
        {
          "output_type": "stream",
          "name": "stdout",
          "text": [
            "Confusion Matrix:\n",
            "[[ 877    0    2    1    0    0    4    0    5    0]\n",
            " [   0 1016    6    2    0    1    0    1    2    2]\n",
            " [   2    6  856    2    3    0    0    4    9    2]\n",
            " [   0    1    5  887    1    8    0    7    4    4]\n",
            " [   0    1    2    0  888    0    0    1    0   20]\n",
            " [   0    1    2   11    5  792    7    1    6    3]\n",
            " [   1    1    0    0    0    7  877    0    6    0]\n",
            " [   0    7    6    2    4    0    0  878    3    8]\n",
            " [   0    3    0    5    2    6    5    0  825    7]\n",
            " [   2    0    0   11   16    2    0    9    1  846]]\n",
            "\n",
            "Classification Report:\n",
            "              precision    recall  f1-score   support\n",
            "\n",
            "           0       0.99      0.99      0.99       889\n",
            "           1       0.98      0.99      0.98      1030\n",
            "           2       0.97      0.97      0.97       884\n",
            "           3       0.96      0.97      0.97       917\n",
            "           4       0.97      0.97      0.97       912\n",
            "           5       0.97      0.96      0.96       828\n",
            "           6       0.98      0.98      0.98       892\n",
            "           7       0.97      0.97      0.97       908\n",
            "           8       0.96      0.97      0.96       853\n",
            "           9       0.95      0.95      0.95       887\n",
            "\n",
            "    accuracy                           0.97      9000\n",
            "   macro avg       0.97      0.97      0.97      9000\n",
            "weighted avg       0.97      0.97      0.97      9000\n",
            "\n"
          ]
        }
      ]
    },
    {
      "cell_type": "markdown",
      "source": [
        "After computing the confusion matrix, we can visualize it using a heatmap to gain a better understanding of the model's performance. In this section, we use the `seaborn` and `matplotlib` libraries to create and customize a heatmap of the confusion matrix.\n",
        "\n",
        "- **Confusion Matrix Visualization**: The confusion matrix provides valuable insights into the model's predictions and the actual labels. By visualizing the confusion matrix, we can easily identify patterns, imbalances, and misclassifications in the predictions. The heatmap representation allows us to observe the distribution of correct and incorrect predictions across different classes. The diagonal elements represent the correctly classified samples, while the off-diagonal elements indicate the misclassifications.\n",
        "\n",
        "To visualize the confusion matrix, we first create a figure and axes using `plt.subplots(figsize=(10, 8))` to define the size of the plot. We then use `sns.heatmap` to create a heatmap of the confusion matrix. The `annot=True` argument displays the actual values in the heatmap cells, the `cmap='Blues'` argument sets the color scheme, and `fmt='d'` formats the values as integers. By setting `cbar=False`, we remove the color bar from the plot.\n",
        "\n",
        "Next, we customize the axis labels and title using `ax.set_xlabel()`, `ax.set_ylabel()`, and `ax.set_title()`. To improve the readability of the plot, we customize the tick labels using `ax.set_xticklabels()` and `ax.set_yticklabels()`. Additionally, we rotate the tick labels using `plt.xticks(rotation=45)` and `plt.yticks(rotation=0)` for better visibility.\n",
        "\n",
        "Finally, we use `plt.show()` to display the plot and visualize the confusion matrix. This visualization provides a clear representation of the model's performance in terms of correctly classified and misclassified samples across different classes.\n"
      ],
      "metadata": {
        "id": "9_H07vlrOBMj"
      }
    },
    {
      "cell_type": "code",
      "source": [
        "import seaborn as sns\n",
        "import matplotlib.pyplot as plt\n",
        "from sklearn.metrics import confusion_matrix\n",
        "\n",
        "# Compute the confusion matrix\n",
        "cm = confusion_matrix(true_labels, predictions)\n",
        "\n",
        "# Create a figure and axes for the confusion matrix plot\n",
        "fig, ax = plt.subplots(figsize=(10, 8))\n",
        "\n",
        "# Create a heatmap of the confusion matrix\n",
        "sns.heatmap(cm, annot=True, cmap='Blues', fmt='d', cbar=False, ax=ax)\n",
        "\n",
        "# Set the axis labels and title\n",
        "ax.set_xlabel('Predicted Labels')\n",
        "ax.set_ylabel('True Labels')\n",
        "ax.set_title('Confusion Matrix')\n",
        "\n",
        "# Customize the tick labels\n",
        "tick_labels = range(len(cm))\n",
        "ax.set_xticklabels(tick_labels)\n",
        "ax.set_yticklabels(tick_labels)\n",
        "\n",
        "# Rotate the tick labels for better visibility\n",
        "plt.xticks(rotation=45)\n",
        "plt.yticks(rotation=0)\n",
        "\n",
        "# Show the plot\n",
        "plt.show()\n"
      ],
      "metadata": {
        "colab": {
          "base_uri": "https://localhost:8080/",
          "height": 720
        },
        "id": "pBk480HoCM-o",
        "outputId": "1c68add4-1dd0-4bd2-b20a-dca9936d1348"
      },
      "execution_count": 24,
      "outputs": [
        {
          "output_type": "display_data",
          "data": {
            "text/plain": [
              "<Figure size 1000x800 with 1 Axes>"
            ],
            "image/png": "[encoded data removed]"
          },
          "metadata": {}
        }
      ]
    },
    {
      "cell_type": "markdown",
      "source": [
        "## Saving the Model\n",
        "\n",
        "After training and evaluating the model, it is often beneficial to save the trained model for future use. This allows you to load the model later and make predictions without having to retrain it. Here is a brief explanation of the code for saving the model:\n",
        "\n",
        "- The `torch.save()` function is used to save the state dictionary of the model to a file. The state dictionary contains all the learnable parameters of the model, such as weights and biases.\n",
        "\n",
        "- `model.state_dict()` returns a dictionary containing the current state of the model. It includes the parameters and their corresponding values.\n",
        "\n",
        "- The first argument of `torch.save()` is the state dictionary that we want to save, which is obtained by calling `model.state_dict()`.\n",
        "\n",
        "- The second argument is the file path and name where we want to save the model. In this example, the model is saved as 'model.pth', but you can choose any desired name and file extension.\n",
        "\n",
        "By saving the model, you can easily load it later using `torch.load()` and reuse it for making predictions or further training. It is important to note that the saved model does not include the model architecture, only the learned parameters. Therefore, when loading the model, you need to define the model architecture and load the saved parameters into it."
      ],
      "metadata": {
        "id": "xyMvqcWZOLAy"
      }
    },
    {
      "cell_type": "code",
      "source": [
        "torch.save(model.state_dict(), 'model.pth')"
      ],
      "metadata": {
        "id": "5FmozueQCYDI"
      },
      "execution_count": 25,
      "outputs": []
    },
    {
      "cell_type": "markdown",
      "source": [
        "## Load the Model\n",
        "\n",
        "\n",
        "After saving the trained model, you can load it at a later time to make predictions or continue training. Here is a brief explanation of the code for loading the model:\n",
        "\n",
        "- First, you need to create an instance of the model by calling the model class with the appropriate architecture. In this example, we use the `NeuralNetwork` class with the specified `input_size`, `hidden_size`, and `output_size` parameters.\n",
        "\n",
        "- Then, you can use the `load_state_dict()` method to load the saved state dictionary into the model. The `torch.load()` function is used to load the state dictionary from the saved file 'model.pth'.\n",
        "\n",
        "- After loading the state dictionary, you need to set the model to evaluation mode by calling `model.eval()`. This ensures that the model is in the correct mode for making predictions.\n",
        "\n",
        "By loading the model, you can easily reuse it for inference or continue training from where you left off. It is important to note that when loading the model, you need to define the model architecture first and then load the saved parameters into it."
      ],
      "metadata": {
        "id": "N8JtI56cOMsh"
      }
    },
    {
      "cell_type": "code",
      "source": [
        "model = NeuralNetwork(input_size, hidden_size, output_size)\n",
        "model.load_state_dict(torch.load('model.pth'))\n",
        "model.eval()"
      ],
      "metadata": {
        "colab": {
          "base_uri": "https://localhost:8080/"
        },
        "id": "UUx6LyuACecT",
        "outputId": "54baae54-c838-4540-994f-e6d7132b2858"
      },
      "execution_count": 31,
      "outputs": [
        {
          "output_type": "execute_result",
          "data": {
            "text/plain": [
              "NeuralNetwork(\n",
              "  (fc1): Linear(in_features=784, out_features=128, bias=True)\n",
              "  (fc2): Linear(in_features=128, out_features=10, bias=True)\n",
              "  (relu): ReLU()\n",
              "  (dropout): Dropout(p=0.5, inplace=False)\n",
              "  (batchnorm1): BatchNorm1d(128, eps=1e-05, momentum=0.1, affine=True, track_running_stats=True)\n",
              "  (batchnorm2): BatchNorm1d(10, eps=1e-05, momentum=0.1, affine=True, track_running_stats=True)\n",
              ")"
            ]
          },
          "metadata": {},
          "execution_count": 31
        }
      ]
    }
  ]
}
